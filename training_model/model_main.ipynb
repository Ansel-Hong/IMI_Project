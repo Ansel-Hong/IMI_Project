{
 "cells": [
  {
   "cell_type": "code",
   "execution_count": 2,
   "metadata": {},
   "outputs": [
    {
     "name": "stderr",
     "output_type": "stream",
     "text": [
      "/Library/Frameworks/Python.framework/Versions/3.7/lib/python3.7/site-packages/IPython/core/interactiveshell.py:3173: DtypeWarning: Columns (9) have mixed types.Specify dtype option on import or set low_memory=False.\n",
      "  interactivity=interactivity, compiler=compiler, result=result)\n"
     ]
    },
    {
     "name": "stdout",
     "output_type": "stream",
     "text": [
      "                                                  id       schema  \\\n",
      "0       acf-00040861bc3f593000830d987d09967ef3503ef1       Person   \n",
      "1       acf-0011c68a768924609dc5da5707ac7fa4c4d645a2       Person   \n",
      "2       acf-001e7e4c0363f08f1e784c230457960b84a6416f       Person   \n",
      "3       acf-002c208139012c8d93b6298358188d7cadafe648       Person   \n",
      "4       acf-002cc8fdf8fe41185091a7cb6c598663e7a22eb5       Person   \n",
      "...                                              ...          ...   \n",
      "244637                                  wbdeb-692537  LegalEntity   \n",
      "244638                                  wbdeb-692795  LegalEntity   \n",
      "244639                                  wbdeb-692816  LegalEntity   \n",
      "244640                                  wbdeb-708815  LegalEntity   \n",
      "244641                                   wbdeb-83317  LegalEntity   \n",
      "\n",
      "                                  name                         aliases  \\\n",
      "0                       Kolyvanov Egor                  Колыванов Егор   \n",
      "1              Shipov Sergei Yurievich            Шипов Сергей Юрьевич   \n",
      "2             Egorov Ivan Mikhailovich          Егоров Иван Михайлович   \n",
      "3       Goreslavsky Alexey Sergeyevich  Гореславский Алексей Сергеевич   \n",
      "4       Samoilova Natalya Vladimirovna  Самойлова Наталья Владимировна   \n",
      "...                                ...                             ...   \n",
      "244637              A2Z POWERTECH LTD.                             NaN   \n",
      "244638                  OOO RBC CENTER                             NaN   \n",
      "244639       LAXMINARAYAN CONSTRUCTION                             NaN   \n",
      "244640        MR. CARLOS BARBERÁN DIEZ                             NaN   \n",
      "244641                    SEYDOU IDANI                             NaN   \n",
      "\n",
      "        birth_date countries  \\\n",
      "0       1980-11-15       NaN   \n",
      "1       1966-04-17       NaN   \n",
      "2       1961-01-21       NaN   \n",
      "3       1977-07-13       NaN   \n",
      "4       1987-06-24       NaN   \n",
      "...            ...       ...   \n",
      "244637         NaN        in   \n",
      "244638         NaN        ru   \n",
      "244639         NaN        in   \n",
      "244640         NaN        es   \n",
      "244641         NaN        bf   \n",
      "\n",
      "                                                addresses identifiers  \\\n",
      "0                                                     NaN         NaN   \n",
      "1                                                     NaN         NaN   \n",
      "2                                                     NaN         NaN   \n",
      "3                                                     NaN         NaN   \n",
      "4                                                     NaN         NaN   \n",
      "...                                                   ...         ...   \n",
      "244637  O-116, 1ST FLOOR, DLF SHOPPING MALL, ARJUN MAR...         NaN   \n",
      "244638  15, 5TH DONSKOY PROEZD, BUILDING 6, 117344, MO...         NaN   \n",
      "244639  PLOT NO. 2D – 221/10 SECTOR – 11, CDA CUTTACK,...         NaN   \n",
      "244640              AVENIDA DIAGONAL 644,08017, BARCELONA         NaN   \n",
      "244641                                                NaN         NaN   \n",
      "\n",
      "                                                sanctions phones emails  \\\n",
      "0                                                     NaN    NaN    NaN   \n",
      "1                                                     NaN    NaN    NaN   \n",
      "2                                                     NaN    NaN    NaN   \n",
      "3                                                     NaN    NaN    NaN   \n",
      "4                                                     NaN    NaN    NaN   \n",
      "...                                                   ...    ...    ...   \n",
      "244637  Controlled Affiliate of a Sanctioned Entity. -...    NaN    NaN   \n",
      "244638  May 2004 Consultant Guidelines, para. 1.22(a)(...    NaN    NaN   \n",
      "244639  May 2004 Consultant Guidelines, para. 1.22(a)(...    NaN    NaN   \n",
      "244640        Corrupt Practices - 2022-11-15 - 2025-11-14    NaN    NaN   \n",
      "244641  Consultant Guidelines 1.25(a)(i) - 2004-10-25 ...    NaN    NaN   \n",
      "\n",
      "                                       dataset           first_seen  \\\n",
      "0       ACF List of bribetakers and warmongers  2022-05-05 15:26:25   \n",
      "1       ACF List of bribetakers and warmongers  2022-07-09 18:14:08   \n",
      "2       ACF List of bribetakers and warmongers  2022-05-05 15:26:25   \n",
      "3       ACF List of bribetakers and warmongers  2022-09-20 01:05:26   \n",
      "4       ACF List of bribetakers and warmongers  2022-09-20 01:05:26   \n",
      "...                                        ...                  ...   \n",
      "244637            WorldBank Debarred Providers  2022-09-14 01:05:01   \n",
      "244638            WorldBank Debarred Providers  2022-09-14 18:20:45   \n",
      "244639            WorldBank Debarred Providers  2022-09-14 18:20:45   \n",
      "244640            WorldBank Debarred Providers  2022-11-15 18:20:29   \n",
      "244641            WorldBank Debarred Providers  2021-07-26 11:55:45   \n",
      "\n",
      "                  last_seen  \n",
      "0       2022-12-01 00:53:49  \n",
      "1       2022-12-01 00:53:49  \n",
      "2       2022-12-01 00:53:49  \n",
      "3       2022-12-01 00:53:49  \n",
      "4       2022-12-01 00:53:49  \n",
      "...                     ...  \n",
      "244637  2022-12-01 01:01:46  \n",
      "244638  2022-12-01 01:01:46  \n",
      "244639  2022-12-01 01:01:46  \n",
      "244640  2022-12-01 01:01:46  \n",
      "244641  2022-12-01 01:01:46  \n",
      "\n",
      "[244642 rows x 14 columns]\n"
     ]
    }
   ],
   "source": [
    "import pandas as pd\n",
    "\n",
    "df = pd.read_csv(r'../data/UofT_bad_actors.csv')\n",
    "print(df)"
   ]
  }
 ],
 "metadata": {
  "kernelspec": {
   "display_name": "Python 3.7.0 64-bit",
   "language": "python",
   "name": "python3"
  },
  "language_info": {
   "codemirror_mode": {
    "name": "ipython",
    "version": 3
   },
   "file_extension": ".py",
   "mimetype": "text/x-python",
   "name": "python",
   "nbconvert_exporter": "python",
   "pygments_lexer": "ipython3",
   "version": "3.7.0"
  },
  "orig_nbformat": 4,
  "vscode": {
   "interpreter": {
    "hash": "e774977668b7c0ae8309835a5187aa7fbf7669e7d0bb59755bc63e573643edcd"
   }
  }
 },
 "nbformat": 4,
 "nbformat_minor": 2
}
